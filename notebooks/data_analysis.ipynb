{
 "cells": [
  {
   "cell_type": "markdown",
   "id": "97050256",
   "metadata": {},
   "source": [
    "# Formula 1 Data Analysis and Model Building\n",
    "This notebook covers the following:\n",
    "1. Exploratory Data Analysis (EDA)\n",
    "2. Data Preprocessing\n",
    "3. Model Training and Evaluation\n",
    "4. Feature Importance and Insights\n",
    "5. Model Saving\n"
   ]
  },
  {
   "cell_type": "code",
   "execution_count": 8,
   "id": "8c9adba4",
   "metadata": {},
   "outputs": [],
   "source": [
    "# Import necessary libraries\n",
    "import pandas as pd\n",
    "import numpy as np\n",
    "import matplotlib.pyplot as plt\n",
    "import seaborn as sns\n",
    "from sklearn.model_selection import train_test_split\n",
    "from sklearn.ensemble import RandomForestClassifier\n",
    "from sklearn.metrics import accuracy_score, classification_report, confusion_matrix\n",
    "import joblib\n",
    "from sklearn.preprocessing import LabelEncoder"
   ]
  },
  {
   "cell_type": "markdown",
   "id": "254122e6",
   "metadata": {},
   "source": [
    "## 1. Load Data"
   ]
  },
  {
   "cell_type": "code",
   "execution_count": 12,
   "id": "58062023",
   "metadata": {},
   "outputs": [
    {
     "data": {
      "text/html": [
       "<div>\n",
       "<style scoped>\n",
       "    .dataframe tbody tr th:only-of-type {\n",
       "        vertical-align: middle;\n",
       "    }\n",
       "\n",
       "    .dataframe tbody tr th {\n",
       "        vertical-align: top;\n",
       "    }\n",
       "\n",
       "    .dataframe thead th {\n",
       "        text-align: right;\n",
       "    }\n",
       "</style>\n",
       "<table border=\"1\" class=\"dataframe\">\n",
       "  <thead>\n",
       "    <tr style=\"text-align: right;\">\n",
       "      <th></th>\n",
       "      <th>raceId</th>\n",
       "      <th>year</th>\n",
       "      <th>round</th>\n",
       "      <th>circuitId</th>\n",
       "      <th>driverId</th>\n",
       "      <th>constructorId</th>\n",
       "      <th>pit_stop_time</th>\n",
       "      <th>positionOrder</th>\n",
       "      <th>grid</th>\n",
       "      <th>points</th>\n",
       "      <th>laps</th>\n",
       "      <th>statusId</th>\n",
       "    </tr>\n",
       "  </thead>\n",
       "  <tbody>\n",
       "    <tr>\n",
       "      <th>0</th>\n",
       "      <td>900</td>\n",
       "      <td>2014</td>\n",
       "      <td>1</td>\n",
       "      <td>1</td>\n",
       "      <td>3</td>\n",
       "      <td>131</td>\n",
       "      <td>23673.0</td>\n",
       "      <td>1</td>\n",
       "      <td>3</td>\n",
       "      <td>25.0</td>\n",
       "      <td>57</td>\n",
       "      <td>1</td>\n",
       "    </tr>\n",
       "    <tr>\n",
       "      <th>1</th>\n",
       "      <td>900</td>\n",
       "      <td>2014</td>\n",
       "      <td>1</td>\n",
       "      <td>1</td>\n",
       "      <td>3</td>\n",
       "      <td>131</td>\n",
       "      <td>24331.0</td>\n",
       "      <td>1</td>\n",
       "      <td>3</td>\n",
       "      <td>25.0</td>\n",
       "      <td>57</td>\n",
       "      <td>1</td>\n",
       "    </tr>\n",
       "    <tr>\n",
       "      <th>2</th>\n",
       "      <td>900</td>\n",
       "      <td>2014</td>\n",
       "      <td>1</td>\n",
       "      <td>1</td>\n",
       "      <td>4</td>\n",
       "      <td>6</td>\n",
       "      <td>21978.0</td>\n",
       "      <td>4</td>\n",
       "      <td>5</td>\n",
       "      <td>12.0</td>\n",
       "      <td>57</td>\n",
       "      <td>1</td>\n",
       "    </tr>\n",
       "    <tr>\n",
       "      <th>3</th>\n",
       "      <td>900</td>\n",
       "      <td>2014</td>\n",
       "      <td>1</td>\n",
       "      <td>1</td>\n",
       "      <td>4</td>\n",
       "      <td>6</td>\n",
       "      <td>22887.0</td>\n",
       "      <td>4</td>\n",
       "      <td>5</td>\n",
       "      <td>12.0</td>\n",
       "      <td>57</td>\n",
       "      <td>1</td>\n",
       "    </tr>\n",
       "    <tr>\n",
       "      <th>4</th>\n",
       "      <td>900</td>\n",
       "      <td>2014</td>\n",
       "      <td>1</td>\n",
       "      <td>1</td>\n",
       "      <td>8</td>\n",
       "      <td>6</td>\n",
       "      <td>21825.0</td>\n",
       "      <td>7</td>\n",
       "      <td>11</td>\n",
       "      <td>6.0</td>\n",
       "      <td>57</td>\n",
       "      <td>1</td>\n",
       "    </tr>\n",
       "  </tbody>\n",
       "</table>\n",
       "</div>"
      ],
      "text/plain": [
       "   raceId  year  round  circuitId  driverId  constructorId  pit_stop_time  \\\n",
       "0     900  2014      1          1         3            131        23673.0   \n",
       "1     900  2014      1          1         3            131        24331.0   \n",
       "2     900  2014      1          1         4              6        21978.0   \n",
       "3     900  2014      1          1         4              6        22887.0   \n",
       "4     900  2014      1          1         8              6        21825.0   \n",
       "\n",
       "   positionOrder  grid  points  laps  statusId  \n",
       "0              1     3    25.0    57         1  \n",
       "1              1     3    25.0    57         1  \n",
       "2              4     5    12.0    57         1  \n",
       "3              4     5    12.0    57         1  \n",
       "4              7    11     6.0    57         1  "
      ]
     },
     "execution_count": 12,
     "metadata": {},
     "output_type": "execute_result"
    }
   ],
   "source": [
    "# Load the dataset\n",
    "data = pd.read_csv(\"data.csv\")\n",
    "data.head()"
   ]
  },
  {
   "cell_type": "markdown",
   "id": "a285cdb6",
   "metadata": {},
   "source": [
    "## 2. Exploratory Data Analysis (EDA)"
   ]
  },
  {
   "cell_type": "code",
   "execution_count": 13,
   "id": "bad04a48",
   "metadata": {},
   "outputs": [
    {
     "name": "stdout",
     "output_type": "stream",
     "text": [
      "<class 'pandas.core.frame.DataFrame'>\n",
      "RangeIndex: 7979 entries, 0 to 7978\n",
      "Data columns (total 12 columns):\n",
      " #   Column         Non-Null Count  Dtype  \n",
      "---  ------         --------------  -----  \n",
      " 0   raceId         7979 non-null   int64  \n",
      " 1   year           7979 non-null   int64  \n",
      " 2   round          7979 non-null   int64  \n",
      " 3   circuitId      7979 non-null   int64  \n",
      " 4   driverId       7979 non-null   int64  \n",
      " 5   constructorId  7979 non-null   int64  \n",
      " 6   pit_stop_time  7979 non-null   float64\n",
      " 7   positionOrder  7979 non-null   int64  \n",
      " 8   grid           7979 non-null   int64  \n",
      " 9   points         7979 non-null   float64\n",
      " 10  laps           7979 non-null   int64  \n",
      " 11  statusId       7979 non-null   int64  \n",
      "dtypes: float64(2), int64(10)\n",
      "memory usage: 748.2 KB\n",
      "None\n",
      "            raceId         year        round    circuitId     driverId  \\\n",
      "count  7979.000000  7979.000000  7979.000000  7979.000000  7979.000000   \n",
      "mean   1016.396917  2018.816769    10.539291    25.890588   622.942850   \n",
      "std      69.098266     3.184872     5.959254    25.537077   354.555868   \n",
      "min     900.000000  2014.000000     1.000000     1.000000     1.000000   \n",
      "25%     957.000000  2016.000000     5.000000     7.000000   154.000000   \n",
      "50%    1017.000000  2019.000000    10.000000    15.000000   825.000000   \n",
      "75%    1079.000000  2022.000000    15.000000    32.000000   840.000000   \n",
      "max    1132.000000  2024.000000    22.000000    80.000000   860.000000   \n",
      "\n",
      "       constructorId  pit_stop_time  positionOrder         grid       points  \\\n",
      "count    7979.000000   7.979000e+03    7979.000000  7979.000000  7979.000000   \n",
      "mean       71.212433   1.084462e+05      10.137486    10.407695     5.216694   \n",
      "std        85.861290   3.627072e+05       5.508354     5.996602     7.292464   \n",
      "min         1.000000   1.397300e+04       1.000000     0.000000     0.000000   \n",
      "25%         5.000000   2.232150e+04       5.000000     5.000000     0.000000   \n",
      "50%        10.000000   2.406100e+04      10.000000    10.000000     1.000000   \n",
      "75%       131.000000   2.829600e+04      15.000000    16.000000    10.000000   \n",
      "max       215.000000   3.069017e+06      22.000000    22.000000    50.000000   \n",
      "\n",
      "              laps     statusId  \n",
      "count  7979.000000  7979.000000  \n",
      "mean     58.064294     8.301667  \n",
      "std      11.756790    18.552261  \n",
      "min       1.000000     1.000000  \n",
      "25%      52.000000     1.000000  \n",
      "50%      57.000000     1.000000  \n",
      "75%      69.000000    11.000000  \n",
      "max      87.000000   141.000000  \n",
      "raceId           0\n",
      "year             0\n",
      "round            0\n",
      "circuitId        0\n",
      "driverId         0\n",
      "constructorId    0\n",
      "pit_stop_time    0\n",
      "positionOrder    0\n",
      "grid             0\n",
      "points           0\n",
      "laps             0\n",
      "statusId         0\n",
      "dtype: int64\n"
     ]
    }
   ],
   "source": [
    "# Overview of the dataset\n",
    "print(data.info())\n",
    "print(data.describe())\n",
    "print(data.isnull().sum())"
   ]
  },
  {
   "cell_type": "markdown",
   "id": "6e1be50d",
   "metadata": {},
   "source": [
    "## 3. Data Preprocessing"
   ]
  },
  {
   "cell_type": "code",
   "execution_count": 15,
   "id": "9f01416c",
   "metadata": {},
   "outputs": [],
   "source": [
    "#Fill missing values\n",
    "data.fillna(data.mean(), inplace=True)\n"
   ]
  },
  {
   "cell_type": "markdown",
   "id": "80c2bf12",
   "metadata": {},
   "source": [
    "## 4. Model Training and Evaluation"
   ]
  },
  {
   "cell_type": "code",
   "execution_count": 20,
   "id": "cdb5e6c5",
   "metadata": {},
   "outputs": [
    {
     "name": "stdout",
     "output_type": "stream",
     "text": [
      "\n",
      "Classification Report:\n",
      "              precision    recall  f1-score   support\n",
      "\n",
      "           0       0.99      0.94      0.97      1526\n",
      "           1       0.39      0.86      0.54        70\n",
      "\n",
      "    accuracy                           0.94      1596\n",
      "   macro avg       0.69      0.90      0.75      1596\n",
      "weighted avg       0.97      0.94      0.95      1596\n",
      "\n",
      "\n",
      "Model Accuracy: 0.94\n",
      "\n",
      "Confusion Matrix:\n",
      "[[1434   92]\n",
      " [  10   60]]\n"
     ]
    }
   ],
   "source": [
    "# Create the target variable (winner)\n",
    "data['winner'] = (data['positionOrder'] == 1).astype(int)\n",
    "\n",
    "# Select features and target\n",
    "features = ['circuitId', 'driverId', 'constructorId', 'grid', 'pit_stop_time']\n",
    "X = data[features]\n",
    "y = data['winner']\n",
    "\n",
    "# Split the dataset into training and testing sets\n",
    "X_train, X_test, y_train, y_test = train_test_split(X, y, test_size=0.2, random_state=42)\n",
    "\n",
    "# Train a Random Forest model\n",
    "model = RandomForestClassifier(\n",
    "    random_state=42,\n",
    "    n_estimators=100,\n",
    "    max_depth=10,\n",
    "    class_weight='balanced'  # For handling class imbalance\n",
    ")\n",
    "model.fit(X_train, y_train)\n",
    "\n",
    "# Evaluate the model\n",
    "y_pred = model.predict(X_test)\n",
    "accuracy = accuracy_score(y_test, y_pred)\n",
    "\n",
    "print(\"\\nClassification Report:\")\n",
    "print(classification_report(y_test, y_pred))\n",
    "\n",
    "print(f\"\\nModel Accuracy: {accuracy:.2f}\")\n",
    "print(\"\\nConfusion Matrix:\")\n",
    "print(confusion_matrix(y_test, y_pred))\n"
   ]
  },
  {
   "cell_type": "markdown",
   "id": "3ee3675a",
   "metadata": {},
   "source": [
    "## 5. Feature Importance and Insights"
   ]
  },
  {
   "cell_type": "code",
   "execution_count": 21,
   "id": "ca293541",
   "metadata": {},
   "outputs": [
    {
     "data": {
      "image/png": "[encoded data removed]",
      "text/plain": [
       "<Figure size 1000x600 with 1 Axes>"
      ]
     },
     "metadata": {},
     "output_type": "display_data"
    }
   ],
   "source": [
    "# Plot feature importance\n",
    "feature_importances = pd.Series(model.feature_importances_, index=X.columns)\n",
    "feature_importances.sort_values(ascending=False).plot(kind='bar', figsize=(10, 6))\n",
    "plt.title('Feature Importances')\n",
    "plt.show()"
   ]
  },
  {
   "cell_type": "markdown",
   "id": "e098a99d",
   "metadata": {},
   "source": [
    "## 6. Save the Model"
   ]
  },
  {
   "cell_type": "code",
   "execution_count": 22,
   "id": "7b4b938f",
   "metadata": {},
   "outputs": [
    {
     "name": "stdout",
     "output_type": "stream",
     "text": [
      "\n",
      "Model saved as '../app/models/race_outcome_model.pkl'\n"
     ]
    }
   ],
   "source": [
    "# Save the trained model\n",
    "joblib.dump(model, '../app/models/race_outcome_model.pkl')\n",
    "print(\"\\nModel saved as '../app/models/race_outcome_model.pkl'\")\n"
   ]
  }
 ],
 "metadata": {
  "kernelspec": {
   "display_name": "Python 3",
   "language": "python",
   "name": "python3"
  },
  "language_info": {
   "codemirror_mode": {
    "name": "ipython",
    "version": 3
   },
   "file_extension": ".py",
   "mimetype": "text/x-python",
   "name": "python",
   "nbconvert_exporter": "python",
   "pygments_lexer": "ipython3",
   "version": "3.11.9"
  }
 },
 "nbformat": 4,
 "nbformat_minor": 5
}
