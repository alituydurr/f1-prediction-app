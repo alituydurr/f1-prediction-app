{
 "cells": [
  {
   "cell_type": "code",
   "execution_count": 1,
   "metadata": {},
   "outputs": [],
   "source": [
    "import sqlite3\n",
    "import pandas as pd"
   ]
  },
  {
   "cell_type": "code",
   "execution_count": 2,
   "metadata": {},
   "outputs": [],
   "source": [
    "#Dosyaları Dataframe formatına çevirelim\n",
    "pit_stops = pd.read_csv(\"pit_stops.csv\")\n",
    "drivers = pd.read_csv(\"drivers.csv\")\n",
    "constructors = pd.read_csv(\"constructors.csv\")\n",
    "races = pd.read_csv(\"races.csv\")\n",
    "results = pd.read_csv(\"results.csv\")"
   ]
  },
  {
   "cell_type": "code",
   "execution_count": 3,
   "metadata": {},
   "outputs": [],
   "source": [
    "#SQLite bağlantısını yapalım\n",
    "conn = sqlite3.connect(\"f1_data.db\")"
   ]
  },
  {
   "cell_type": "code",
   "execution_count": 4,
   "metadata": {},
   "outputs": [
    {
     "data": {
      "text/plain": [
       "859"
      ]
     },
     "execution_count": 4,
     "metadata": {},
     "output_type": "execute_result"
    }
   ],
   "source": [
    "pit_stops.to_sql(\"pit_stops\", conn, if_exists=\"replace\", index=False)\n",
    "results.to_sql(\"results\", conn, if_exists=\"replace\", index=False)\n",
    "races.to_sql(\"races\", conn, if_exists=\"replace\",index=False )\n",
    "constructors.to_sql(\"constructors\", conn, if_exists=\"replace\", index=False)\n",
    "drivers.to_sql(\"drivers\", conn, if_exists=\"replace\", index=False)\n"
   ]
  },
  {
   "cell_type": "code",
   "execution_count": 5,
   "metadata": {},
   "outputs": [],
   "source": [
    "query = \"\"\"\n",
    "SELECT r.raceId, r.year, r.round, r.circuitId, cir.name AS circuit_name, \n",
    "       d.driverId, c.constructorId, ps.milliseconds AS pit_stop_time, \n",
    "       res.positionOrder, res.grid, res.points, res.laps, res.statusId\n",
    "FROM results res\n",
    "JOIN races r ON res.raceId = r.raceId\n",
    "LEFT JOIN pit_stops ps ON res.raceId = ps.raceId AND res.driverId = ps.driverId\n",
    "JOIN drivers d ON res.driverId = d.driverId\n",
    "JOIN constructors c ON res.constructorId = c.constructorId\n",
    "JOIN circuits cir ON r.circuitId = cir.circuitId\n",
    "\n",
    "WHERE r.year >= strftime('%Y', 'now') - 10\n",
    "\n",
    "\"\"\"\n"
   ]
  },
  {
   "cell_type": "code",
   "execution_count": 6,
   "metadata": {},
   "outputs": [],
   "source": [
    "#SQL den veriyi okuyalım\n",
    "data = pd.read_sql_query(query,conn)\n",
    "\n",
    "#EDA yaparken eksik değer olduğunu fark etmiştik son 10 yılda bu değerler var mı kontrol edip temizleyelim\n",
    "data = data.dropna(subset=[\"pit_stop_time\"])\n",
    "\n",
    "#TAHMİN İÇİN HEDEF DEĞİŞKEN GEREKLİ (KAZANDI = 1, KAYBETTİ = 0)\n",
    "#data['winner'] = (data['positionOrder'] == 1).astype(int)\n",
    "\n",
    "# Gereksiz sütunları at\n",
    "#data = data.drop(columns=[\"positionOrder\"])\n",
    "data=data.drop(columns=[\"circuit_name\"])"
   ]
  },
  {
   "cell_type": "code",
   "execution_count": 7,
   "metadata": {},
   "outputs": [
    {
     "data": {
      "text/html": [
       "<div>\n",
       "<style scoped>\n",
       "    .dataframe tbody tr th:only-of-type {\n",
       "        vertical-align: middle;\n",
       "    }\n",
       "\n",
       "    .dataframe tbody tr th {\n",
       "        vertical-align: top;\n",
       "    }\n",
       "\n",
       "    .dataframe thead th {\n",
       "        text-align: right;\n",
       "    }\n",
       "</style>\n",
       "<table border=\"1\" class=\"dataframe\">\n",
       "  <thead>\n",
       "    <tr style=\"text-align: right;\">\n",
       "      <th></th>\n",
       "      <th>raceId</th>\n",
       "      <th>year</th>\n",
       "      <th>round</th>\n",
       "      <th>circuitId</th>\n",
       "      <th>driverId</th>\n",
       "      <th>constructorId</th>\n",
       "      <th>pit_stop_time</th>\n",
       "      <th>positionOrder</th>\n",
       "      <th>grid</th>\n",
       "      <th>points</th>\n",
       "      <th>laps</th>\n",
       "      <th>statusId</th>\n",
       "    </tr>\n",
       "  </thead>\n",
       "  <tbody>\n",
       "    <tr>\n",
       "      <th>1</th>\n",
       "      <td>900</td>\n",
       "      <td>2014</td>\n",
       "      <td>1</td>\n",
       "      <td>1</td>\n",
       "      <td>3</td>\n",
       "      <td>131</td>\n",
       "      <td>23673.0</td>\n",
       "      <td>1</td>\n",
       "      <td>3</td>\n",
       "      <td>25.0</td>\n",
       "      <td>57</td>\n",
       "      <td>1</td>\n",
       "    </tr>\n",
       "    <tr>\n",
       "      <th>2</th>\n",
       "      <td>900</td>\n",
       "      <td>2014</td>\n",
       "      <td>1</td>\n",
       "      <td>1</td>\n",
       "      <td>3</td>\n",
       "      <td>131</td>\n",
       "      <td>24331.0</td>\n",
       "      <td>1</td>\n",
       "      <td>3</td>\n",
       "      <td>25.0</td>\n",
       "      <td>57</td>\n",
       "      <td>1</td>\n",
       "    </tr>\n",
       "    <tr>\n",
       "      <th>3</th>\n",
       "      <td>900</td>\n",
       "      <td>2014</td>\n",
       "      <td>1</td>\n",
       "      <td>1</td>\n",
       "      <td>4</td>\n",
       "      <td>6</td>\n",
       "      <td>21978.0</td>\n",
       "      <td>4</td>\n",
       "      <td>5</td>\n",
       "      <td>12.0</td>\n",
       "      <td>57</td>\n",
       "      <td>1</td>\n",
       "    </tr>\n",
       "    <tr>\n",
       "      <th>4</th>\n",
       "      <td>900</td>\n",
       "      <td>2014</td>\n",
       "      <td>1</td>\n",
       "      <td>1</td>\n",
       "      <td>4</td>\n",
       "      <td>6</td>\n",
       "      <td>22887.0</td>\n",
       "      <td>4</td>\n",
       "      <td>5</td>\n",
       "      <td>12.0</td>\n",
       "      <td>57</td>\n",
       "      <td>1</td>\n",
       "    </tr>\n",
       "    <tr>\n",
       "      <th>5</th>\n",
       "      <td>900</td>\n",
       "      <td>2014</td>\n",
       "      <td>1</td>\n",
       "      <td>1</td>\n",
       "      <td>8</td>\n",
       "      <td>6</td>\n",
       "      <td>21825.0</td>\n",
       "      <td>7</td>\n",
       "      <td>11</td>\n",
       "      <td>6.0</td>\n",
       "      <td>57</td>\n",
       "      <td>1</td>\n",
       "    </tr>\n",
       "  </tbody>\n",
       "</table>\n",
       "</div>"
      ],
      "text/plain": [
       "   raceId  year  round  circuitId  driverId  constructorId  pit_stop_time  \\\n",
       "1     900  2014      1          1         3            131        23673.0   \n",
       "2     900  2014      1          1         3            131        24331.0   \n",
       "3     900  2014      1          1         4              6        21978.0   \n",
       "4     900  2014      1          1         4              6        22887.0   \n",
       "5     900  2014      1          1         8              6        21825.0   \n",
       "\n",
       "   positionOrder  grid  points  laps  statusId  \n",
       "1              1     3    25.0    57         1  \n",
       "2              1     3    25.0    57         1  \n",
       "3              4     5    12.0    57         1  \n",
       "4              4     5    12.0    57         1  \n",
       "5              7    11     6.0    57         1  "
      ]
     },
     "execution_count": 7,
     "metadata": {},
     "output_type": "execute_result"
    }
   ],
   "source": [
    "#datamızın ilk 5 sütununu kontrol ettik. yıla göre filtreleme yaptığımızı doğruladık. şimdi bu data için EDA.ipynb DOSYASINA TEKRAR GEÇELİM\n",
    "\n",
    "data.head()"
   ]
  },
  {
   "cell_type": "code",
   "execution_count": 8,
   "metadata": {},
   "outputs": [],
   "source": [
    "#oluşturduğumuz \"data\" dataframini kaydedelim\n",
    "data.to_csv('data.csv', index=False)"
   ]
  }
 ],
 "metadata": {
  "kernelspec": {
   "display_name": "Python 3",
   "language": "python",
   "name": "python3"
  },
  "language_info": {
   "codemirror_mode": {
    "name": "ipython",
    "version": 3
   },
   "file_extension": ".py",
   "mimetype": "text/x-python",
   "name": "python",
   "nbconvert_exporter": "python",
   "pygments_lexer": "ipython3",
   "version": "3.11.9"
  }
 },
 "nbformat": 4,
 "nbformat_minor": 2
}
